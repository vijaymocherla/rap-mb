{
 "cells": [
  {
   "cell_type": "markdown",
   "metadata": {},
   "source": [
    "# Rapid Adiabatic Passage Simulations for $\\text{CH}_4$"
   ]
  },
  {
   "cell_type": "markdown",
   "metadata": {},
   "source": [
    "In this notebook, we will try to reproduce calculations and simulation presented by Rainer Beck *et al.* in *J.Chem.Phys* **140**, 034321 (2014) for preparation of quantum state specific reactants in a molecular beams by rapid adiabatic passage. "
   ]
  },
  {
   "cell_type": "code",
   "execution_count": null,
   "metadata": {},
   "outputs": [],
   "source": [
    "# importing some paraphernelia \n",
    "import numpy as np\n",
    "import matplotlib as mpl\n",
    "mpl.rc('text', usetex=True)\n",
    "mpl.rc('font', family='sans-serif', serif='computer modern')\n",
    "import matplotlib.pyplot as plt\n",
    "from scipy.constants import c, mu_0, epsilon_0, h, hbar"
   ]
  },
  {
   "cell_type": "markdown",
   "metadata": {},
   "source": [
    "$$\n",
    "w_{x}(0) = \\frac{f\\lambda}{r\\pi}\n",
    "$$\n",
    "\n",
    "$$\n",
    "w_{x}(z) = w_{x}(0)\\sqrt{1+\\frac{z^2}{z_R^2}}\n",
    "$$\n",
    "\n",
    "$$\n",
    "z_{R} = \\frac{\\pi w_{x}(0)^2}{\\lambda}\n",
    "$$\n",
    "\n",
    "$$\n",
    "R(z) = z + \\frac{z_{R}^2}{z}\n",
    "$$"
   ]
  },
  {
   "cell_type": "code",
   "execution_count": null,
   "metadata": {},
   "outputs": [],
   "source": [
    "from rap_mb.cpp import *\n",
    "from rap_mb.helpers import *"
   ]
  },
  {
   "cell_type": "code",
   "execution_count": null,
   "metadata": {},
   "outputs": [],
   "source": [
    "wl_nm = 3300 # nm\n",
    "r = 0.2      # cm   \n",
    "focal_lengths = [10, 25.4, 40, 65, 96] #cm\n",
    "z = np.linspace(-20, 20, 1000) # cm"
   ]
  },
  {
   "cell_type": "code",
   "execution_count": null,
   "metadata": {},
   "outputs": [],
   "source": [
    "fig, ax = plt.subplots(figsize=(5,4))\n",
    "for f in focal_lengths:\n",
    "    params = f, wl_nm, r\n",
    "    label = '{f:2.1f} cm'.format(f=f)\n",
    "    w0 = wl_nm*1e-7*f/(np.pi*r)\n",
    "    ax.plot(z, abs(R(z, w0, wl_nm)), label=label)\n",
    "ax.set_ylim(0, 60)\n",
    "ax.set_xlim(-20,20)\n",
    "ax.set_xlabel('$z$ [cm]')\n",
    "ax.legend(bbox_to_anchor=[.75,0.75], frameon=False, title=r'$f$')\n",
    "ax.set_ylabel(r'$|R(z)|$ [cm]')"
   ]
  },
  {
   "cell_type": "code",
   "execution_count": null,
   "metadata": {},
   "outputs": [],
   "source": [
    "fig, ax = plt.subplots(figsize=(5,4))\n",
    "for f in focal_lengths:\n",
    "    params = f, wl_nm, r\n",
    "    label = '{f:2.1f} cm'.format(f=f)\n",
    "    ax.plot(z, w(z, wl_nm, r, f, focused=True)*10, label=label)\n",
    "ax.set_ylim(0, 2.0)\n",
    "ax.set_xlim(-20,20)\n",
    "ax.set_xlabel(r'$z$ [cm]')\n",
    "ax.legend(bbox_to_anchor=[.5,0.5], frameon=False, title=r'$f$')\n",
    "ax.set_ylabel(r'$w_{x}(z)$ [mm]')"
   ]
  },
  {
   "cell_type": "markdown",
   "metadata": {},
   "source": [
    "### Sweep rates\n",
    "\n",
    "$$\n",
    "\\frac{d\\Phi}{dt} = \\frac{v_x^2\\omega_{21}}{R(z)c}\n",
    "$$\n",
    "\n",
    "$$\n",
    "T_{trans} = \\frac{2w_{x}(z)}{v_{x}}\n",
    "$$\n",
    "\n",
    "The total sweep experienced by the molecule from the curved wavefronts can be calculated as \n",
    "$$\n",
    "\\frac{d\\Phi}{dt}T_{trans}\n",
    "$$\n",
    "\n",
    "The frequency sweep experienced by the molecule at a time t is given by  \n",
    "$$\n",
    "\\Delta(t) = \\omega_{21} - \\omega_{L} - \\frac{d\\Phi}{dt}t\n",
    "$$\n",
    "\n",
    "where $\\omega_{21}$ is the frequency of the transition, $\\omega_L$ the laser frequency. So, if the detuning is zero *i.e.* if the laser is resonant with the transition and, if there is no divergence in the molecular beam, the sweep is only due to the curved wavefronts.\n",
    "\n",
    "\n",
    "However, there's usually an angular divergence associated with the molecular beam and, this gives rise to a Doppler shift associated with the component of velocity that is parallel ($v_{z}$) to the direction of propagation of the laser field.\n",
    "\n",
    "$$\n",
    "\\Delta(t) = \\frac{v_z \\omega_{21}}{c} - \\frac{v_x^2\\omega_{21}}{R(z)c}t\n",
    "$$"
   ]
  },
  {
   "cell_type": "code",
   "execution_count": null,
   "metadata": {},
   "outputs": [],
   "source": [
    "vx = 2056\n",
    "z = np.linspace(0,20, 2000)"
   ]
  },
  {
   "cell_type": "code",
   "execution_count": null,
   "metadata": {},
   "outputs": [],
   "source": [
    "fig, ax = plt.subplots(figsize=(5,4))\n",
    "for f in focal_lengths:\n",
    "    params = wl_nm, r, f\n",
    "    label = '{f:2.1f} cm'.format(f=f)\n",
    "    ax.plot(z, sweep_rate(z, vx, params), label=label)\n",
    "ax.set_xlim(0, 20)\n",
    "ax.set_ylim(0, 5e14)\n",
    "ax.set_xlabel('$z$ [cm]')\n",
    "ax.legend(bbox_to_anchor=[.5,0.65], frameon=False,title=r'$f$')\n",
    "ax.set_ylabel(r'${d\\phi}/{dt}$ [Hz s$^{-1}$]')"
   ]
  },
  {
   "cell_type": "code",
   "execution_count": null,
   "metadata": {},
   "outputs": [],
   "source": [
    "fig, ax = plt.subplots(figsize=(5,4))\n",
    "for f in focal_lengths:\n",
    "    params = wl_nm, r, f\n",
    "    label = '{f:2.1f} cm'.format(f=f)\n",
    "    tr = transit_time(z,vx,params)\n",
    "    ax.plot(z, tr*sweep_rate(z, vx, params), label=label)\n",
    "ax.set_xlim(0,20)\n",
    "ax.set_ylim(0,1.6e8)\n",
    "ax.set_xlabel('$z$ [cm]')\n",
    "ax.legend(bbox_to_anchor=[.5,0.65], frameon=False,title=r'$f$')\n",
    "ax.set_ylabel(r'$T_\\textit{\\tiny trans} \\ {d\\phi}/{dt}$ [Hz s$^{-1}$]')"
   ]
  },
  {
   "cell_type": "code",
   "execution_count": null,
   "metadata": {},
   "outputs": [],
   "source": [
    "dipole = 1.8e-31 # C-m\n",
    "P = 0.5\n",
    "Nz = 100\n",
    "v = 2000\n",
    "delta_v = 5\n",
    "divergence = 0.250\n",
    "z = np.linspace(0, 20, Nz)\n",
    "fig, ax = plt.subplots(figsize=(5,4))\n",
    "for f in focal_lengths:\n",
    "    params = wl_nm, r,f\n",
    "    label = '{f:2.1f}'.format(f=f)\n",
    "    vel_xyz = sample_velocities(v, delta_v, divergence)\n",
    "    E0 = Exy(0, z, 0.5, vel_xyz, params)\n",
    "    omega_r = E0*dipole/hbar\n",
    "    ax.plot(z, omega_r/1e6, label=label)\n",
    "ax.set_xlim(0,20)\n",
    "ax.set_ylim(0,85.0)\n",
    "ax.set_xlabel('$z$ [cm]')\n",
    "ax.legend(bbox_to_anchor=[.85,0.85], frameon=False,title=r'$f$ [cm]')\n",
    "ax.set_ylabel(r'$\\Omega(z)$ MHz')"
   ]
  },
  {
   "cell_type": "code",
   "execution_count": null,
   "metadata": {},
   "outputs": [],
   "source": [
    "Nt = 200\n",
    "Nz = 100\n",
    "N_sample = 10000\n",
    "t = np.linspace(-1e-6, 1e-6, Nt)\n",
    "z = np.linspace(0, 100, Nz)\n",
    "Z, T = np.meshgrid(z, t)\n",
    "E = np.empty((Nt, Nz), dtype=np.float64)\n",
    "velocities = np.empty((N_sample, 3), dtype=np.float64)\n",
    "for i in range(N_sample):\n",
    "    vel_xyz = sample_velocities(v, delta_v, divergence)\n",
    "    velocities[i,:] = vel_xyz\n",
    "    E += Exy(T, Z, 0.5, vel_xyz, params)/1e3\n",
    "E = E/N_sample\n",
    "\n",
    "fig, ax = plt.subplots(figsize=(5,4))\n",
    "cs = ax.contourf(T/1e-6, Z, E, levels=20)\n",
    "cbar = plt.colorbar(cs, spacing='proportional')\n",
    "cbar.ax.set_title(r'$E$ [kV/m]')\n",
    "fig.tight_layout()\n",
    "ax.set_xlabel(r'$t$ [$\\mu$s]')\n",
    "ax.set_ylabel(r'$z$ [cm]')\n",
    "fig.suptitle(r'$E_{avg}$ felt by molecules')"
   ]
  },
  {
   "cell_type": "code",
   "execution_count": null,
   "metadata": {},
   "outputs": [],
   "source": [
    "fig, ax = plt.subplots(3,1, figsize=(7, 6))\n",
    "ax[0].set_title(r'$V_{x}$')\n",
    "ax[1].set_title(r'$V_{y}$')\n",
    "ax[2].set_title(r'$V_{z}$')\n",
    "ax[0].hist(velocities[:,0], bins=50)\n",
    "ax[1].hist(velocities[:,1],bins=50)\n",
    "ax[2].hist(velocities[:,2],bins=50)\n",
    "fig.tight_layout()"
   ]
  },
  {
   "cell_type": "markdown",
   "metadata": {},
   "source": [
    "## Optical Bloch Equations\n",
    "\n",
    "Now, let's solve the optical Bloch equations for the two-level system.\n",
    "\n",
    "$$\n",
    "\\begin{align*}\n",
    "\n",
    "\\frac{dU}{dt} &= -V \\\\\n",
    "\n",
    "\\frac{dV}{dt} &= \\Delta U + \\Omega W \\\\\n",
    "\n",
    "\\frac{dW}{dt} &= -\\Omega V\n",
    "\n",
    "\\end{align*}\n",
    "$$\n"
   ]
  },
  {
   "cell_type": "code",
   "execution_count": null,
   "metadata": {},
   "outputs": [],
   "source": [
    "input = {\n",
    "        \"wavelength_nm\": 3300.0,\n",
    "        \"beam_radius\": 0.20,\n",
    "        \"power\": 0.200,\n",
    "        \"dipole_mom\": 1.8e-31,\n",
    "        \"delta_v\": 5.0,\n",
    "        \"angular_divg\": 0.350,\n",
    "        \"N_samples\": 1000.0,\n",
    "        \"N_tstep\": 1000.0,\n",
    "        \"U0\": 0.0,\n",
    "        \"V0\": 0.0,\n",
    "        \"W0\": -1.0,\n",
    "        \"rel_tol\":1e-8,\n",
    "        \"abs_tol\":1e-8,\n",
    "        \"max_tsteps\":10000,\n",
    "        \"dt_max\":1.0e-5,\n",
    "}"
   ]
  },
  {
   "cell_type": "code",
   "execution_count": null,
   "metadata": {},
   "outputs": [],
   "source": [
    "!export OMP_NUM_THREADS=4\n",
    "from rap_mb.cpp import calculate_ensemble_average"
   ]
  },
  {
   "cell_type": "code",
   "execution_count": 14,
   "metadata": {},
   "outputs": [],
   "source": [
    "Nz = 50\n",
    "input['velocity'] = 2056.00\n",
    "input['power'] = 0.200\n",
    "focal_length = np.array([10.0, 25.4, 40.0, 65.0]) \n",
    "ntsteps = [500, 500, 500, 2000]\n",
    "z = np.linspace(0.1, 60.0, Nz)\n",
    "data1 = {'z': z}\n",
    "focal_length_data = {}\n",
    "for idx, f in enumerate(focal_length):\n",
    "    input['focal_length'] = f\n",
    "    input['N_tstep'] = ntsteps[idx]\n",
    "    n1 = np.empty(Nz, dtype=np.float64)\n",
    "    for i in range(Nz):\n",
    "        input['zi'] = z[i]\n",
    "        n1[i] = calculate_ensemble_average(input)\n",
    "    focal_length_data[f] = n1\n",
    "data1['focal_length'] = focal_length_data "
   ]
  },
  {
   "cell_type": "code",
   "execution_count": null,
   "metadata": {},
   "outputs": [],
   "source": [
    "title = \"RAP in $\\textbf{CH}_{4}$ (P=20mW ; $v_{x}$=2000 m/s)\"\n",
    "fig, ax = plot_property_data(data1, x_key='z', param_key='focal_length',\n",
    "                             title=title, legend_title='f [cm]', \n",
    "                             xlabel='z [cm]',xlim=[0, 60], figsize=(5,4))\n",
    "ax.set_ylim(0, 1.05)"
   ]
  },
  {
   "cell_type": "code",
   "execution_count": null,
   "metadata": {},
   "outputs": [],
   "source": []
  },
  {
   "cell_type": "code",
   "execution_count": null,
   "metadata": {},
   "outputs": [],
   "source": []
  }
 ],
 "metadata": {
  "kernelspec": {
   "display_name": "nm",
   "language": "python",
   "name": "python3"
  },
  "language_info": {
   "codemirror_mode": {
    "name": "ipython",
    "version": 3
   },
   "file_extension": ".py",
   "mimetype": "text/x-python",
   "name": "python",
   "nbconvert_exporter": "python",
   "pygments_lexer": "ipython3",
   "version": "3.11.8"
  }
 },
 "nbformat": 4,
 "nbformat_minor": 2
}
