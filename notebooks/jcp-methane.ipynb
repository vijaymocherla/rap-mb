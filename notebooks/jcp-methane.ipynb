{
 "cells": [
  {
   "cell_type": "markdown",
   "metadata": {},
   "source": [
    "# Rapid Adiabatic Passage Simulations for $\\text{CH}_4$"
   ]
  },
  {
   "cell_type": "markdown",
   "metadata": {},
   "source": [
    "In this notebook, we will try to reproduce calculations and simulation presented by Rainer Beck *et al.* in *J.Chem.Phys* **140**, 034321 (2014) for preparation of quantum state specific reactants in a molecular beams by rapid adiabatic passage. "
   ]
  },
  {
   "cell_type": "code",
   "execution_count": 1,
   "metadata": {},
   "outputs": [],
   "source": [
    "# importing some paraphernelia \n",
    "import numpy as np\n",
    "import matplotlib as mpl\n",
    "mpl.rc('text', usetex=True)\n",
    "mpl.rc('font', family='sans-serif', serif='computer modern')\n",
    "import matplotlib.pyplot as plt\n",
    "from scipy.constants import c, mu_0, epsilon_0, h, hbar"
   ]
  },
  {
   "cell_type": "markdown",
   "metadata": {},
   "source": [
    "$$\n",
    "w_{x}(0) = \\frac{f\\lambda}{r\\pi}\n",
    "$$\n",
    "\n",
    "$$\n",
    "w_{x}(z) = w_{x}(0)\\sqrt{1+\\frac{z^2}{z_R^2}}\n",
    "$$\n",
    "\n",
    "$$\n",
    "z_{R} = \\frac{\\pi w_{x}(0)^2}{\\lambda}\n",
    "$$\n",
    "\n",
    "$$\n",
    "R(z) = z + \\frac{z_{R}^2}{z}\n",
    "$$"
   ]
  },
  {
   "cell_type": "code",
   "execution_count": 2,
   "metadata": {},
   "outputs": [
    {
     "name": "stdout",
     "output_type": "stream",
     "text": [
      " \n",
      ":: initializing oneAPI environment ...\n",
      "   bash: BASH_VERSION = 5.1.16(1)-release\n",
      "   args: Using \"$@\" for setvars.sh arguments: \n",
      ":: advisor -- latest\n",
      ":: ccl -- latest\n",
      ":: compiler -- latest\n",
      ":: dal -- latest\n",
      ":: debugger -- latest\n",
      ":: dev-utilities -- latest\n",
      ":: dnnl -- latest\n",
      ":: dpcpp-ct -- latest\n",
      ":: dpl -- latest\n",
      ":: ipp -- latest\n",
      ":: ippcp -- latest\n",
      ":: mkl -- latest\n",
      ":: mpi -- latest\n",
      ":: tbb -- latest\n",
      ":: vtune -- latest\n",
      ":: oneAPI environment initialized ::\n",
      " \n"
     ]
    }
   ],
   "source": [
    "!source /opt/intel/oneapi/setvars.sh"
   ]
  },
  {
   "cell_type": "code",
   "execution_count": 3,
   "metadata": {},
   "outputs": [
    {
     "ename": "ImportError",
     "evalue": "libsvml.so: cannot open shared object file: No such file or directory",
     "output_type": "error",
     "traceback": [
      "\u001b[0;31m---------------------------------------------------------------------------\u001b[0m",
      "\u001b[0;31mImportError\u001b[0m                               Traceback (most recent call last)",
      "Cell \u001b[0;32mIn[3], line 4\u001b[0m\n\u001b[1;32m      2\u001b[0m \u001b[38;5;28;01mimport\u001b[39;00m \u001b[38;5;21;01msys\u001b[39;00m\n\u001b[1;32m      3\u001b[0m sys\u001b[38;5;241m.\u001b[39mpath\u001b[38;5;241m.\u001b[39mappend(\u001b[38;5;124m'\u001b[39m\u001b[38;5;124m..\u001b[39m\u001b[38;5;124m'\u001b[39m)\n\u001b[0;32m----> 4\u001b[0m \u001b[38;5;28;01mfrom\u001b[39;00m \u001b[38;5;21;01mrap_mb\u001b[39;00m \u001b[38;5;28;01mimport\u001b[39;00m \u001b[38;5;241m*\u001b[39m\n",
      "File \u001b[0;32m~/Desktop/rap-mb/notebooks/../rap_mb/__init__.py:3\u001b[0m\n\u001b[1;32m      1\u001b[0m \u001b[38;5;66;03m# A python interface for rap_mb\u001b[39;00m\n\u001b[0;32m----> 3\u001b[0m \u001b[38;5;28;01mfrom\u001b[39;00m \u001b[38;5;21;01m.\u001b[39;00m\u001b[38;5;21;01m_rap_mb\u001b[39;00m \u001b[38;5;28;01mimport\u001b[39;00m \u001b[38;5;241m*\u001b[39m \n\u001b[1;32m      4\u001b[0m \u001b[38;5;28;01mfrom\u001b[39;00m \u001b[38;5;21;01m.\u001b[39;00m \u001b[38;5;28;01mimport\u001b[39;00m helpers\n",
      "\u001b[0;31mImportError\u001b[0m: libsvml.so: cannot open shared object file: No such file or directory"
     ]
    }
   ],
   "source": [
    "import os\n",
    "import sys\n",
    "sys.path.append('..')\n",
    "from rap_mb import *"
   ]
  },
  {
   "cell_type": "code",
   "execution_count": null,
   "metadata": {},
   "outputs": [],
   "source": [
    "wl_nm = 3300 # nm\n",
    "r = 0.2      # cm   \n",
    "focal_lengths = [10, 25.4, 40, 65, 96] #cm\n",
    "z = np.linspace(-20, 20, 1000) # cm"
   ]
  },
  {
   "cell_type": "code",
   "execution_count": null,
   "metadata": {},
   "outputs": [],
   "source": [
    "fig, ax = plt.subplots(figsize=(5,4))\n",
    "for f in focal_lengths:\n",
    "    params = f, wl_nm, r\n",
    "    label = '{f:2.1f} cm'.format(f=f)\n",
    "    w0 = wl_nm*1e-7*f/(np.pi*r)\n",
    "    ax.plot(z, abs(R(z, w0, wl_nm)), label=label)\n",
    "ax.set_ylim(0, 60)\n",
    "ax.set_xlim(-20,20)\n",
    "ax.set_xlabel('$z$ [cm]')\n",
    "ax.legend(bbox_to_anchor=[.75,0.75], frameon=False, title=r'$f$')\n",
    "ax.set_ylabel(r'$|R(z)|$ [cm]')"
   ]
  },
  {
   "cell_type": "code",
   "execution_count": null,
   "metadata": {},
   "outputs": [],
   "source": [
    "fig, ax = plt.subplots(figsize=(5,4))\n",
    "for f in focal_lengths:\n",
    "    params = f, wl_nm, r\n",
    "    label = '{f:2.1f} cm'.format(f=f)\n",
    "    ax.plot(z, w(z, wl_nm, r, f, focused=True)*10, label=label)\n",
    "ax.set_ylim(0, 2.0)\n",
    "ax.set_xlim(-20,20)\n",
    "ax.set_xlabel(r'$z$ [cm]')\n",
    "ax.legend(bbox_to_anchor=[.5,0.5], frameon=False, title=r'$f$')\n",
    "ax.set_ylabel(r'$w_{x}(z)$ [mm]')"
   ]
  },
  {
   "cell_type": "markdown",
   "metadata": {},
   "source": [
    "### Sweep rates\n",
    "\n",
    "$$\n",
    "\\frac{d\\Phi}{dt} = \\frac{v_x^2\\omega_{21}}{R(z)c}\n",
    "$$\n",
    "\n",
    "$$\n",
    "T_{trans} = \\frac{2w_{x}(z)}{v_{x}}\n",
    "$$\n",
    "\n",
    "The total sweep experienced by the molecule from the curved wavefronts can be calculated as \n",
    "$$\n",
    "\\frac{d\\Phi}{dt}T_{trans}\n",
    "$$\n",
    "\n",
    "The frequency sweep experienced by the molecule at a time t is given by  \n",
    "$$\n",
    "\\Delta(t) = \\omega_{21} - \\omega_{L} - \\frac{d\\Phi}{dt}t\n",
    "$$\n",
    "\n",
    "where $\\omega_{21}$ is the frequency of the transition, $\\omega_L$ the laser frequency. So, if the detuning is zero *i.e.* if the laser is resonant with the transition and, if there is no divergence in the molecular beam, the sweep is only due to the curved wavefronts.\n",
    "\n",
    "\n",
    "However, there's usually an angular divergence associated with the molecular beam and, this gives rise to a Doppler shift associated with the component of velocity that is parallel ($v_{z}$) to the direction of propagation of the laser field.\n",
    "\n",
    "$$\n",
    "\\Delta(t) = \\frac{v_z \\omega_{21}}{c} - \\frac{v_x^2\\omega_{21}}{R(z)c}t\n",
    "$$"
   ]
  },
  {
   "cell_type": "code",
   "execution_count": null,
   "metadata": {},
   "outputs": [],
   "source": [
    "vx = 2056\n",
    "z = np.linspace(0,20, 2000)"
   ]
  },
  {
   "cell_type": "code",
   "execution_count": null,
   "metadata": {},
   "outputs": [],
   "source": [
    "fig, ax = plt.subplots(figsize=(5,4))\n",
    "for f in focal_lengths:\n",
    "    params = wl_nm, r, f\n",
    "    label = '{f:2.1f} cm'.format(f=f)\n",
    "    ax.plot(z, sweep_rate(z, vx, params), label=label)\n",
    "ax.set_xlim(0, 20)\n",
    "ax.set_ylim(0, 5e14)\n",
    "ax.set_xlabel('$z$ [cm]')\n",
    "ax.legend(bbox_to_anchor=[.5,0.65], frameon=False,title=r'$f$')\n",
    "ax.set_ylabel(r'${d\\phi}/{dt}$ [Hz s$^{-1}$]')"
   ]
  },
  {
   "cell_type": "code",
   "execution_count": null,
   "metadata": {},
   "outputs": [],
   "source": [
    "fig, ax = plt.subplots(figsize=(5,4))\n",
    "for f in focal_lengths:\n",
    "    params = wl_nm, r, f\n",
    "    label = '{f:2.1f} cm'.format(f=f)\n",
    "    tr = transit_time(z,vx,params)\n",
    "    ax.plot(z, tr*sweep_rate(z, vx, params), label=label)\n",
    "ax.set_xlim(0,20)\n",
    "ax.set_ylim(0,1.6e8)\n",
    "ax.set_xlabel('$z$ [cm]')\n",
    "ax.legend(bbox_to_anchor=[.5,0.65], frameon=False,title=r'$f$')\n",
    "ax.set_ylabel(r'$T_\\textit{\\tiny trans} \\ {d\\phi}/{dt}$ [Hz s$^{-1}$]')"
   ]
  },
  {
   "cell_type": "code",
   "execution_count": null,
   "metadata": {},
   "outputs": [],
   "source": [
    "dipole = 1.8e-31 # C-m\n",
    "P = 0.5\n",
    "Nz = 100\n",
    "v = 2000\n",
    "delta_v = 5\n",
    "divergence = 0.250\n",
    "z = np.linspace(0, 20, Nz)\n",
    "fig, ax = plt.subplots(figsize=(5,4))\n",
    "for f in focal_lengths:\n",
    "    params = wl_nm, r,f\n",
    "    label = '{f:2.1f}'.format(f=f)\n",
    "    vel_xyz = sample_velocities(v, delta_v, divergence)\n",
    "    E0 = Exy(0, z, 0.5, vel_xyz, params)\n",
    "    omega_r = E0*dipole/hbar\n",
    "    ax.plot(z, omega_r/1e6, label=label)\n",
    "ax.set_xlim(0,20)\n",
    "ax.set_ylim(0,85.0)\n",
    "ax.set_xlabel('$z$ [cm]')\n",
    "ax.legend(bbox_to_anchor=[.85,0.85], frameon=False,title=r'$f$ [cm]')\n",
    "ax.set_ylabel(r'$\\Omega(z)$ MHz')"
   ]
  },
  {
   "cell_type": "code",
   "execution_count": null,
   "metadata": {},
   "outputs": [],
   "source": [
    "Nt = 200\n",
    "Nz = 100\n",
    "N_sample = 10000\n",
    "t = np.linspace(-1e-6, 1e-6, Nt)\n",
    "z = np.linspace(0, 100, Nz)\n",
    "Z, T = np.meshgrid(z, t)\n",
    "E = np.empty((Nt, Nz), dtype=np.float64)\n",
    "velocities = np.empty((N_sample, 3), dtype=np.float64)\n",
    "for i in range(N_sample):\n",
    "    vel_xyz = sample_velocities(v, delta_v, divergence)\n",
    "    velocities[i,:] = vel_xyz\n",
    "    E += Exy(T, Z, 0.5, vel_xyz, params)/1e3\n",
    "E = E/N_sample\n",
    "\n",
    "fig, ax = plt.subplots(figsize=(5,4))\n",
    "cs = ax.contourf(T/1e-6, Z, E, levels=20)\n",
    "cbar = plt.colorbar(cs, spacing='proportional')\n",
    "cbar.ax.set_title(r'$E$ [kV/m]')\n",
    "fig.tight_layout()\n",
    "ax.set_xlabel(r'$t$ [$\\mu$s]')\n",
    "ax.set_ylabel(r'$z$ [cm]')\n",
    "fig.suptitle(r'$E_{avg}$ felt by molecules')"
   ]
  },
  {
   "cell_type": "code",
   "execution_count": null,
   "metadata": {},
   "outputs": [],
   "source": [
    "fig, ax = plt.subplots(3,1, figsize=(7, 6))\n",
    "ax[0].set_title(r'$V_{x}$')\n",
    "ax[1].set_title(r'$V_{y}$')\n",
    "ax[2].set_title(r'$V_{z}$')\n",
    "ax[0].hist(velocities[:,0], bins=50)\n",
    "ax[1].hist(velocities[:,1],bins=50)\n",
    "ax[2].hist(velocities[:,2],bins=50)\n",
    "fig.tight_layout()"
   ]
  },
  {
   "cell_type": "markdown",
   "metadata": {},
   "source": [
    "## Optical Bloch Equations\n",
    "\n",
    "Now, let's solve the optical Bloch equations for the two-level system.\n",
    "\n",
    "$$\n",
    "\\begin{align*}\n",
    "\n",
    "\\frac{dU}{dt} &= -V \\\\\n",
    "\n",
    "\\frac{dV}{dt} &= \\Delta U + \\Omega W \\\\\n",
    "\n",
    "\\frac{dW}{dt} &= -\\Omega V\n",
    "\n",
    "\\end{align*}\n",
    "$$\n"
   ]
  },
  {
   "cell_type": "code",
   "execution_count": null,
   "metadata": {},
   "outputs": [],
   "source": []
  },
  {
   "cell_type": "code",
   "execution_count": null,
   "metadata": {},
   "outputs": [],
   "source": [
    "from scipy.constants import k, N_A\n",
    "\n",
    "T_para = 20 # K \n",
    "T_perp = 5   # K\n",
    "M = 28.01 *1e-3/N_A # kg\n",
    "v0 = 2000\n",
    "v = np.linspace(1800, 2200, 100)\n",
    "f = lambda T : np.exp(-M*(v-v0)**2/(k*T))\n",
    "plt.plot(v, f(T_para))"
   ]
  },
  {
   "cell_type": "code",
   "execution_count": null,
   "metadata": {},
   "outputs": [],
   "source": []
  }
 ],
 "metadata": {
  "kernelspec": {
   "display_name": "nm",
   "language": "python",
   "name": "python3"
  },
  "language_info": {
   "codemirror_mode": {
    "name": "ipython",
    "version": 3
   },
   "file_extension": ".py",
   "mimetype": "text/x-python",
   "name": "python",
   "nbconvert_exporter": "python",
   "pygments_lexer": "ipython3",
   "version": "3.12.1"
  }
 },
 "nbformat": 4,
 "nbformat_minor": 2
}
