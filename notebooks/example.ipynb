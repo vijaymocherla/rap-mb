{
 "cells": [
  {
   "cell_type": "markdown",
   "metadata": {},
   "source": [
    "# Example notebook\n",
    "\n",
    "From the C++ program `rap_mb`, only a single function `calculate_ensmeble_average` is exposed to the python interface to compute the average excited state population by averaging over different Monte Carlo trajectories for given set of parameters. The input to this function can be provided through a dictionary as illustrated here."
   ]
  },
  {
   "cell_type": "code",
   "execution_count": 7,
   "metadata": {},
   "outputs": [],
   "source": [
    "from rap_mb.cpp import calculate_ensemble_average\n",
    "\n",
    "# Input Dictionary with all the parameters\n",
    "input_options = {\n",
    "        \"zi\": 10.0,   # distance from focal spot, where the molecular beam\n",
    "                      # crosses the laser beam in cm\n",
    "        # Laser parameters\n",
    "        \"power\": 0.020,          # Power in Watts\n",
    "        \"beam_radius\": 0.20,     # beam radius in cm   \n",
    "        \"wavelength_nm\": 4666.0, # wavelength in nm\n",
    "        \"focal_length\": 10.0,    # focal length in cm\n",
    "        # molecular beam parameters        \n",
    "        \"velocity\": 1200.0,      # Velocity in m/s\n",
    "        \"velocity_fwhm\": 5.0,          # Doppler width % dv/v\n",
    "        \"divergence_fwhm\": 0.250,   # Angular divergence in degrees\n",
    "        \"dipole_mom\": 4.77e-31,  # Dipole moment in Cm (CO molecule)\n",
    "        # Simulations parameters\n",
    "        \"U0\": 0.0, # real part of Coherences\n",
    "        \"V0\": 0.0, # imag. part of Coherences \n",
    "        \"W0\": -1.0, # population difference (W= N1-N2)\n",
    "        \"N_samples\": 1000.0,     # No. of Monte Carlo samples\n",
    "        \"rel_tol\":1e-8,          # relative tolerance for IVP solver   \n",
    "        \"abs_tol\":1e-8,          # absolute tolerance for IVP solver   \n",
    "        \"max_tsteps\":10000,      # maximum number of time steps\n",
    "        \"dt_max\":1.0e-5,         # maximum time step size (in seconds)\n",
    "        \"N_t\": 100,\n",
    "}"
   ]
  },
  {
   "cell_type": "code",
   "execution_count": 8,
   "metadata": {},
   "outputs": [
    {
     "name": "stdout",
     "output_type": "stream",
     "text": [
      "Final population in the excited state:  0.9832130189383531\n"
     ]
    }
   ],
   "source": [
    "n1_avg = calculate_ensemble_average(input_options)\n",
    "print(\"Final population in the excited state: \", n1_avg)"
   ]
  },
  {
   "cell_type": "code",
   "execution_count": null,
   "metadata": {},
   "outputs": [],
   "source": []
  }
 ],
 "metadata": {
  "kernelspec": {
   "display_name": "rap-mb",
   "language": "python",
   "name": "python3"
  },
  "language_info": {
   "codemirror_mode": {
    "name": "ipython",
    "version": 3
   },
   "file_extension": ".py",
   "mimetype": "text/x-python",
   "name": "python",
   "nbconvert_exporter": "python",
   "pygments_lexer": "ipython3",
   "version": "3.11.11"
  }
 },
 "nbformat": 4,
 "nbformat_minor": 2
}
