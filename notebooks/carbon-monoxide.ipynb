{
 "cells": [
  {
   "cell_type": "markdown",
   "metadata": {},
   "source": [
    "# Rapid Adiabatic Passage Simulations for $\\text{CO}$"
   ]
  },
  {
   "cell_type": "code",
   "execution_count": null,
   "metadata": {},
   "outputs": [],
   "source": [
    "# importing some paraphernelia \n",
    "\n",
    "import numpy as np\n",
    "import matplotlib.pyplot as plt\n",
    "import matplotlib as mpl\n",
    "mpl.rc('text', usetex=True)\n",
    "mpl.rc('font', family='sans-serif', serif='computer modern')\n",
    "mpl.rc('font', size=15)"
   ]
  },
  {
   "cell_type": "markdown",
   "metadata": {},
   "source": [
    "Also, the lifetime of an excited state $\\tau$ and the corresponding einstein coefficient of the transition $A_{1\\rightarrow 0}$ are related as,\n",
    "$$\n",
    "A_{1\\rightarrow 0} = \\frac{1}{\\tau}.\n",
    "$$\n",
    "where $\\tau$ is an experimentally, measurably quantity.\n",
    "\n",
    "We can transition dipole moment from $A_{1\\rightarrow 0}$ as,\n",
    "\n",
    "$$\n",
    "A_{1\\rightarrow 0} = \\frac{16\\pi^3\\bar{\\nu}^3}{3\\varepsilon_{0}h}\\mu_{10}^{2}\n",
    "$$\n",
    "\n",
    "(For reference see, the textbook by Peter Bernath.)\n"
   ]
  },
  {
   "cell_type": "code",
   "execution_count": null,
   "metadata": {},
   "outputs": [],
   "source": [
    "from scipy.constants import epsilon_0, mu_0, h\n",
    "\n",
    "def calc_dipole(A, nu_bar):\n",
    "    \"\"\"Calculates transition dipole matrix element mu_10 (C-m) for a transition with einstein coefficient A (s^{-1}) and, correspdoning wavenumber nu_bar (cm^-1)\n",
    "    \"\"\"\n",
    "    const = 16*np.pi**3/(3*epsilon_0*h)    \n",
    "    nu_bar = 100*nu_bar\n",
    "    mu_10 = np.sqrt(A/(const*nu_bar**3))\n",
    "    return mu_10"
   ]
  },
  {
   "cell_type": "markdown",
   "metadata": {},
   "source": [
    "```sh\n",
    "Isotope\t  ν         \tS\t      A\t     γair\tγself\tE\"\t        nair\t δair\tJ'\tJ\"\n",
    "12C16O\t2142.4729\t2.627e-23\t32.56\t0.0618\t0.068\t2223.2714\t0.75\t-0.002\t7\t6\n",
    "12C16O\t2142.7199\t6.172e-28\t50.61\t0.0545\t0.059\t4656.1724\t0.71\t-0.002\t15\t14\n",
    "12C16O\t2145.9173\t5.01e-28\t50.95\t0.0538\t0.058\t4712.7156\t0.7     -0.002\t16\t15\n",
    "12C16O\t2145.9988\t2.643e-23\t33.01\t0.0606\t0.066\t2249.9334\t0.75\t-0.002\t8\t7\n",
    "12C16O\t2147.0811\t9.29e-20\t11.71\t0.0803\t0.087\t0.0\t        0.76\t-0.002\t1\t0\n",
    "12C16O\t2149.0774\t3.978e-28\t51.28\t0.0531\t0.057\t4773.0161\t0.69\t-0.002\t17\t16\n",
    "12C16O\t2149.4885\t2.569e-23\t33.39\t0.0595\t0.065\t2280.4012\t0.75\t-0.002\t9\t8\n",
    "12C16O\t2150.8560\t1.828e-19\t14.13\t0.0757\t0.081\t3.845       0.75\t-0.002\t2\t1\n",
    "12C16O\t2152.1999\t3.09e-28\t51.61\t0.0524\t0.056\t4837.0717\t0.68\t-0.002\t18\t17\n",
    "12C16O\t2152.9419\t2.421e-23\t33.74\t0.0586\t0.064\t2314.6739\t0.75\t-0.002\t10\t9\n",
    "12C16O\t2154.5956\t2.646e-19\t15.23\t0.0712\t0.077\t11.535\t    0.74\t-0.003\t3\t2\n",
    "```"
   ]
  },
  {
   "cell_type": "markdown",
   "metadata": {},
   "source": [
    "## Saturation excitation\n",
    "\n",
    "Before, we look at RAP let's estimated the theoretical limit for saturation excitation as a function of laser power."
   ]
  },
  {
   "cell_type": "code",
   "execution_count": null,
   "metadata": {},
   "outputs": [],
   "source": [
    "from scipy.constants import c\n",
    "\n",
    "\n",
    "def excited_state_populations(nu_bar, v, Jp, Jpp, P, laser_params):\n",
    "    d, delta_nu, A10 = laser_params\n",
    "    T_trans = d/v\n",
    "    g0, g1 = 2*Jpp+1, 2*Jp+1 \n",
    "    B10 =  2*np.pi*h*(nu_bar*100)**3*c * A10\n",
    "    rho = 4*P/(np.pi*c*delta_nu)\n",
    "    # print(B10, rho)\n",
    "    n1 = g1/(g1+g0)*(1-np.exp(-rho*B10*(g1+g0)/g0*T_trans))\n",
    "    return n1\n"
   ]
  },
  {
   "cell_type": "code",
   "execution_count": null,
   "metadata": {},
   "outputs": [],
   "source": [
    "v = 1500  # m/s\n",
    "d = 0.004 # m\n",
    "delta_nu = 1.0*1e6 # Hz (1MHz)\n",
    "A10 = 11.71 # s^-1\n",
    "laser_params = (d, delta_nu, A10)\n",
    "power = np.linspace(0, 160, 100)*1e-3 # mW\n",
    "nu_bar = 2147.0811 # cm^-1\n",
    "r0_n1 = excited_state_populations(nu_bar, v, 1, 0, power, laser_params)\n",
    "nu_bar = 2150.8560 # cm^-1\n",
    "r1_n1 = excited_state_populations(nu_bar, v, 2, 1, power, laser_params)\n",
    "print(\"Max.  excited population for R(0) transition: %4.2f\"%np.max(r0_n1))\n",
    "print(\"Max.  excited population for R(1) transition: %4.2f\"%np.max(r1_n1))"
   ]
  },
  {
   "cell_type": "code",
   "execution_count": null,
   "metadata": {},
   "outputs": [],
   "source": [
    "fig, ax = plt.subplots(figsize=(5, 4))\n",
    "ax.plot(power*1e3, r0_n1, label=\"R(0)\")\n",
    "ax.plot(power*1e3, r1_n1, label=\"R(1)\")\n",
    "ax.set_xlabel('Power (mW)')\n",
    "ax.set_ylabel(r'$N_{ex}$')\n",
    "ax.set_title(r'Saturation Excitation', size=15, pad=10)\n",
    "ax.set_ylim(0,1)\n",
    "ax.set_xlim(0,20)\n",
    "ax.axes.minorticks_on()\n",
    "ax.axes.grid(which='minor', linestyle=':', linewidth='0.5', color='grey')\n",
    "ax.axes.grid(which='major', linestyle=':', linewidth='0.5', color='black')\n",
    "ax.legend(fontsize=12)\n",
    "fig.tight_layout()\n",
    "fig.savefig('images/saturation_behaviour_CO.png', dpi=300)"
   ]
  },
  {
   "cell_type": "markdown",
   "metadata": {},
   "source": [
    "## Rapid Adiabatic Passage"
   ]
  },
  {
   "cell_type": "code",
   "execution_count": null,
   "metadata": {},
   "outputs": [],
   "source": [
    "def clebsch_gordon_coefficient(branch, J, M):\n",
    "    if branch==\"R\":\n",
    "        coeff = np.sqrt(((J-M+1)*(J+M+1))/((2*J+1)*(J+1)))\n",
    "    if branch==\"Q\":\n",
    "        coeff = np.sqrt((M**2)/(J*(J+1)))\n",
    "    if branch==\"P\":\n",
    "        coeff = np.sqrt(((J-M)*(J+M))/(J*(2*J+1)))\n",
    "    return coeff"
   ]
  },
  {
   "cell_type": "markdown",
   "metadata": {},
   "source": [
    "### R(1) Transition"
   ]
  },
  {
   "cell_type": "code",
   "execution_count": null,
   "metadata": {},
   "outputs": [],
   "source": [
    "J=1\n",
    "A10 = 14.13\t # 2150.8560 cm^-1 1<-0 transition\t\n",
    "nubar = 2150.8560 # cm^{-1}\n",
    "#Final dipole calculation\n",
    "dipole = calc_dipole(A10, nubar)\n",
    "CG_coeff = clebsch_gordon_coefficient(\"R\", J, 0)\n",
    "dipole = dipole*CG_coeff\n",
    "print(\"Clebsch-Gordon coefficient for R branch transition J'={Jpp:d}->J''={Jp:1d}, M=0 : {CG:6.4f}\".format(Jp=J+1,Jpp=J,CG=CG_coeff))\n",
    "print(\"Dipole moment of the CO molecule : %8.6E C-m\"%dipole)\n",
    "print('(OR) %6.2f D'%(dipole/(3.33564*1E-30)))"
   ]
  },
  {
   "cell_type": "markdown",
   "metadata": {},
   "source": [
    "### R(0) Transition"
   ]
  },
  {
   "cell_type": "code",
   "execution_count": null,
   "metadata": {},
   "outputs": [],
   "source": [
    "J=0\n",
    "A10 = 11.71\t # 2147.0811 cm^-1 1<-0 transition\n",
    "nubar = 2147.0811 # cm^{-1}\n",
    "#Final dipole calculation\n",
    "dipole = calc_dipole(A10, nubar)\n",
    "CG_coeff = clebsch_gordon_coefficient(\"R\", J, 0)\n",
    "dipole = dipole*CG_coeff\n",
    "print(\"Clebsch-Gordon coefficient for R branch transition J'={Jpp:d}->J''={Jp:1d}, M=0 : {CG:6.4f}\".format(Jp=J+1,Jpp=J,CG=CG_coeff))\n",
    "print(\"Dipole moment of the CO molecule : %8.6E C-m\"%dipole)\n",
    "print('(OR) %6.2f D'%(dipole/(3.33564*1E-30)))"
   ]
  },
  {
   "cell_type": "code",
   "execution_count": null,
   "metadata": {},
   "outputs": [],
   "source": [
    "import os \n",
    "os.environ['OMP_NUM_THREADS'] = '4'\n",
    "from rap_mb.cpp import *\n",
    "from rap_mb.helpers import *\n"
   ]
  },
  {
   "cell_type": "code",
   "execution_count": null,
   "metadata": {},
   "outputs": [],
   "source": [
    "nubar = 2147.0811 \n",
    "wl_nm = 1/(nubar*1e2)*1e9 # nm\n",
    "r = 0.2 # cm   \n",
    "z = np.linspace(-20, 20, 5000) # cm\n",
    "focal_lengths = [10, 18.0, 25.4, 40.0, 65.0] #cm\n",
    "colors = {10.0:'red', 18.0:'black', 25.40:'green', 40.0:'mediumblue', 65.0:'purple'}"
   ]
  },
  {
   "cell_type": "code",
   "execution_count": null,
   "metadata": {},
   "outputs": [],
   "source": [
    "fig, ax = plt.subplots(figsize=(5,4))\n",
    "for f in focal_lengths:\n",
    "    params = f, wl_nm, r\n",
    "    label = '{f:2.1f} cm'.format(f=f)\n",
    "    w0 = wl_nm*1e-7*f/(np.pi*r)\n",
    "    ax.plot(z, abs(R(z, w0, wl_nm)), label=label, color=colors[f], alpha=0.75)\n",
    "ax.set_ylim(0, 60)\n",
    "ax.set_xlim(-20,20)\n",
    "ax.set_xlabel('$z$ [cm]')\n",
    "ax.legend(loc='center', bbox_to_anchor=[.87,0.78], frameon=False, title=r'$f$', fontsize=11)\n",
    "ax.set_ylabel(r'$|R(z)|$ [cm]',labelpad=10)\n",
    "fig.tight_layout()\n",
    "fig.savefig('images/beam_radius.pdf', dpi=300)\n",
    "fig.savefig('images/beam_radius.png', dpi=300)"
   ]
  },
  {
   "cell_type": "code",
   "execution_count": null,
   "metadata": {},
   "outputs": [],
   "source": [
    "fig, ax = plt.subplots(figsize=(5,4))\n",
    "for f in focal_lengths:\n",
    "    params = f, wl_nm, r\n",
    "    label = '{f:2.1f} cm'.format(f=f)\n",
    "    ax.plot(z, w(z, wl_nm, r, f, focused=True)*10, label=label, color=colors[f])\n",
    "ax.set_ylim(0, 2.0)\n",
    "ax.set_xlim(-20,20)\n",
    "ax.set_xlabel(r'$z$ [cm]')\n",
    "ax.legend(bbox_to_anchor=[.5,0.5], frameon=False, title=r'$f$', fontsize=11)\n",
    "ax.set_ylabel(r'$w_{x}(z)$ [mm]')\n",
    "fig.tight_layout()\n",
    "fig.savefig('images/beam_width.pdf', dpi=300)\n",
    "fig.savefig('images/beam_width.png', dpi=300)"
   ]
  },
  {
   "cell_type": "code",
   "execution_count": null,
   "metadata": {},
   "outputs": [],
   "source": [
    "vx = 1500 # m/s\n",
    "z = np.linspace(0,20, 2000)\n",
    "focal_lengths = [10, 18.0, 25.4, 40.0, 65.0] #cm\n",
    "colors = {10.0:'red', 18.0:'black', 25.40:'green', 40.0:'mediumblue', 65.0:'purple'}\n",
    "fig, ax = plt.subplots(figsize=(5,4))\n",
    "for f in focal_lengths:\n",
    "    params = wl_nm, r, f\n",
    "    label = '{f:2.1f} cm'.format(f=f)\n",
    "    ax.plot(z, sweep_rate(z, vx, params), label=label, color=colors[f])\n",
    "ax.set_xlim(0, 10)\n",
    "ax.set_ylim(2e11, 7e14)\n",
    "ax.set_xlabel('$z$ [cm]')\n",
    "ax.legend(bbox_to_anchor=[.85,0.23], loc='center', fontsize=10, frameon=False,title=r'$f$')\n",
    "ax.set_ylabel(r'${d\\phi}/{dt}$ [Hz s$^{-1}$]')\n",
    "ax.set_yscale('log')\n",
    "fig.tight_layout()\n",
    "fig.savefig('images/sweep_rate.pdf', dpi=300)"
   ]
  },
  {
   "cell_type": "code",
   "execution_count": null,
   "metadata": {},
   "outputs": [],
   "source": [
    "fig, ax = plt.subplots(figsize=(5,4))\n",
    "for f in focal_lengths:\n",
    "    params = wl_nm, r, f\n",
    "    label = '{f:2.1f} cm'.format(f=f)\n",
    "    tr = transit_time(z,vx,params)\n",
    "    ax.plot(z, tr*sweep_rate(z, vx, params), label=label, color=colors[f])\n",
    "ax.set_xlim(0,20)\n",
    "ax.set_ylim(2e5,1.5e8)\n",
    "ax.set_yscale('log')\n",
    "ax.set_xlabel('$z$ [cm]')\n",
    "ax.legend(bbox_to_anchor=[.81,0.25], loc='center', frameon=False,title=r'$f$', fontsize=10)\n",
    "ax.set_ylabel(r'$T_\\textit{\\tiny trans} \\ {d\\phi}/{dt}$ [Hz s$^{-1}$]')\n",
    "fig.tight_layout()\n",
    "fig.savefig('images/transition_rate.pdf', dpi=300)"
   ]
  },
  {
   "cell_type": "code",
   "execution_count": null,
   "metadata": {},
   "outputs": [],
   "source": [
    "P = 0.080\n",
    "Nz = 1000\n",
    "v = 1500\n",
    "delta_v = 10\n",
    "divergence = 0.700\n",
    "z = np.linspace(-20, 20, Nz)\n",
    "fig, ax = plt.subplots(figsize=(5,4))\n",
    "for f in focal_lengths:\n",
    "    params = wl_nm, r,f\n",
    "    label = '{f:2.1f} cm'.format(f=f)\n",
    "    vel_xyz = sample_velocities(v, delta_v, divergence)\n",
    "    E0 = Exy(0, z, P, vel_xyz, params)\n",
    "    omega_r = E0*dipole/hbar\n",
    "    ax.plot(z, omega_r/1e6, label=label, color=colors[f])\n",
    "ax.set_xlim(-20,20)\n",
    "ax.set_ylim(0,33.0)\n",
    "ax.set_xlabel('$z$ [cm]')\n",
    "ax.legend(bbox_to_anchor=[.85,0.75], loc='center', frameon=False,title=r'$f$', fontsize=11)\n",
    "ax.set_ylabel(r'$\\Omega(z)$ MHz')\n",
    "fig.tight_layout()\n",
    "fig.savefig('images/rabi_frequency.pdf', dpi=300)\n",
    "fig.savefig('images/rabi_frequency.png', dpi=300)"
   ]
  },
  {
   "cell_type": "code",
   "execution_count": null,
   "metadata": {},
   "outputs": [],
   "source": [
    "Nt = 200\n",
    "Nz = 100\n",
    "N_sample = 10000\n",
    "v = 1500\n",
    "print(v,delta_v, divergence)\n",
    "t = np.linspace(-1e-6, 1e-6, Nt)\n",
    "z = np.linspace(-50, 50, Nz)\n",
    "Z, T = np.meshgrid(z, t)\n",
    "E = np.empty((Nt, Nz), dtype=np.float64)\n",
    "velocities = np.empty((N_sample, 3), dtype=np.float64)\n",
    "for i in range(N_sample):\n",
    "    vel_xyz = sample_velocities(v, delta_v, divergence)\n",
    "    velocities[i,:] = vel_xyz\n",
    "    E += Exy(T, Z, P, vel_xyz, params)/1e3\n",
    "E = E/N_sample\n",
    "\n",
    "fig, ax = plt.subplots(figsize=(5,4))\n",
    "cs = ax.contourf(Z, T/1e-6, E, levels=21)\n",
    "cbar = plt.colorbar(cs, spacing='proportional')\n",
    "cbar.ax.set_title(r'$E$ [kV/m]', fontsize=15)\n",
    "cbar.ax.tick_params(labelsize=13) \n",
    "fig.tight_layout()\n",
    "ax.set_ylabel(r'$t$ [$\\mu$s]',fontsize=14)\n",
    "ax.set_xlabel(r'$z$ [cm]',fontsize=14)\n",
    "ax.set_xticklabels(ax.get_xticks(), fontsize=14)\n",
    "ax.set_yticklabels(ax.get_yticks(), fontsize=14)\n",
    "# fig.suptitle(r'$E_{avg}$ felt by molecules')\n",
    "fig.tight_layout()\n",
    "fig.savefig('images/field_profile.pdf', dpi=300)\n",
    "fig.savefig('images/field_profile.png', dpi=300)"
   ]
  },
  {
   "cell_type": "code",
   "execution_count": null,
   "metadata": {},
   "outputs": [],
   "source": [
    "# setting all constant parameters\n",
    "input = {\n",
    "        \"wavelength_nm\": wl_nm,\n",
    "        \"beam_radius\": 0.20,\n",
    "        \"dipole_mom\": dipole,\n",
    "        \"velocity_fwhm\": 200.0,\n",
    "        \"divergence_fwhm\": 0.7,\n",
    "        \"N_samples\": 4000.0,\n",
    "        \"U0\": 0.0,\n",
    "        \"V0\": 0.0,\n",
    "        \"W0\": -1.0,\n",
    "        \"rel_tol\":1e-7,\n",
    "        \"abs_tol\":1e-7,\n",
    "        \"max_tsteps\":10000,\n",
    "        \"dt_max\":1.0e-5,\n",
    "}"
   ]
  },
  {
   "cell_type": "code",
   "execution_count": null,
   "metadata": {},
   "outputs": [],
   "source": [
    "def plot_property_data(data, x_key, param_key, title='', \n",
    "                    legend_title='', label_format='4.2f', legend_loc=(.80, .50),\n",
    "                    colors={},\n",
    "                    xlabel='', xlim=[], \n",
    "                    figsize=(5,4), save_fig=False, filename=''):\n",
    "    fig, ax = plt.subplots(figsize=figsize)\n",
    "    x = data[x_key]\n",
    "    param_data = data[param_key]\n",
    "    if colors=={}:\n",
    "        tableau_palette = ['blue', 'orange','green','red','purple','brown','pink','gray','olive','cyan']\n",
    "        colors = {ki: tableau_palette[i] for i, ki in enumerate(param_data.keys())}\n",
    "    for ki in param_data:\n",
    "        label = ('{k:'+label_format+'}').format(k=ki)\n",
    "        ax.plot(x, param_data[ki], label=label, color=colors[ki])\n",
    "    ax.set_xlabel(xlabel, size=16)\n",
    "    ax.set_ylabel(r'$\\textbf{N}_\\textbf{ex}$',size=16)\n",
    "    ax.set_xlim(np.min(x), np.max(x))\n",
    "    ax.legend(bbox_to_anchor=legend_loc, loc='center', frameon=True, title=legend_title, fontsize=11, title_fontsize=11)\n",
    "    if xlim != []:\n",
    "        ax.set_xlim(xlim[0], xlim[1])\n",
    "    ax.set_title(title)\n",
    "    if save_fig:\n",
    "        fig.tight_layout()\n",
    "        fig.savefig(filename, dpi=350)\n",
    "    return fig, ax"
   ]
  },
  {
   "cell_type": "code",
   "execution_count": null,
   "metadata": {},
   "outputs": [],
   "source": [
    "Nz = 40\n",
    "input['velocity'] = 1500.00\n",
    "input['power'] = 0.080\n",
    "focal_length = [10, 18.0, 25.4, 40.0, 65.0] #cm\n",
    "z = np.linspace(0.1, 40.0, Nz)\n",
    "data1 = {'z': z}\n",
    "focal_length_data = {}\n",
    "for f in focal_length:\n",
    "    input['focal_length'] = f\n",
    "    n1 = np.empty(Nz, dtype=np.float64)\n",
    "    for i in range(Nz):\n",
    "        input['zi'] = z[i]\n",
    "        n1[i] = calculate_ensemble_average(input)\n",
    "    focal_length_data[f] = n1\n",
    "data1['focal_length'] = focal_length_data "
   ]
  },
  {
   "cell_type": "code",
   "execution_count": null,
   "metadata": {},
   "outputs": [],
   "source": [
    "title = \"RAP in CO (P=80mW ; $v_{x}$=1500 m/s)\"\n",
    "colors = {10.0:'red', 18.0:'black', 25.40:'green', 40.0:'mediumblue', 65.0:'purple'}\n",
    "fig, ax = plot_property_data(data1, x_key='z', param_key='focal_length',\n",
    "                             title=\"\", legend_title=r'$f$ [cm]', label_format='4.1f', \n",
    "                             legend_loc=(.85, .250), \n",
    "                             xlabel=r'$z$ [cm]',xlim=[0, 30], colors=colors,\n",
    "                             save_fig=True, filename='images/plot1.pdf')"
   ]
  },
  {
   "cell_type": "code",
   "execution_count": null,
   "metadata": {},
   "outputs": [],
   "source": [
    "fname = \"../data/carbon_monoxide/p_8e-2_v_1500_f_fxn_z.npy\"\n",
    "np.save(fname, data1)"
   ]
  },
  {
   "cell_type": "code",
   "execution_count": null,
   "metadata": {},
   "outputs": [],
   "source": [
    "Np = 70\n",
    "input['focal_length'] = 18.0\n",
    "input['velocity'] = 1500.00\n",
    "power = np.linspace(0.0, 0.300, Np)\n",
    "data2 = {'power': power*1000}\n",
    "power_data = {}\n",
    "z = np.array([0.1, 1.25, 2.5, 5.0, 10.0])\n",
    "for zi in z:\n",
    "    input['zi'] = zi\n",
    "    n1 = np.empty(Np, dtype=np.float64)\n",
    "    for i in range(Np):\n",
    "        input['power'] = power[i]\n",
    "        n1[i] = calculate_ensemble_average(input)\n",
    "    power_data[zi] = n1\n",
    "data2['z'] = power_data"
   ]
  },
  {
   "cell_type": "code",
   "execution_count": null,
   "metadata": {},
   "outputs": [],
   "source": [
    "title = \"RAP in CO (f=18.0cm ; $v_{x}$=1500 m/s)\"\n",
    "colors = {0.1:'red', 1.25:'black', 2.5:'green', 5.0:'mediumblue', 10.0:'purple'}\n",
    "fig, ax = plot_property_data(data2, x_key='power', param_key='z',\n",
    "                             title=\"\", legend_title=r'$z$ [cm]',\n",
    "                             xlabel='Power [mW]',xlim=[0, 300], colors=colors,\n",
    "                             figsize=(5,4), legend_loc=[0.85,0.25],\n",
    "                             save_fig=True, filename='images/plot2.pdf')\n",
    "fig.savefig('images/plot2.pdf', dpi=350)\n",
    "fig.savefig('images/plot2.png', dpi=350)"
   ]
  },
  {
   "cell_type": "code",
   "execution_count": null,
   "metadata": {},
   "outputs": [],
   "source": [
    "fname = \"../data/carbon_monoxide/f_18_v_1500_z_fxn_p.npy\"\n",
    "np.save(fname, data2)"
   ]
  },
  {
   "cell_type": "code",
   "execution_count": null,
   "metadata": {},
   "outputs": [],
   "source": [
    "Np = 40\n",
    "input['focal_length'] = 18.0\n",
    "input['zi'] = 10.0\n",
    "power = np.linspace(0.0, 0.150, Np)\n",
    "data3 = {'power': power*1000}\n",
    "power_data = {}\n",
    "velocities = [1000, 1200, 1500, 1800, 2000, 2400, 2500]\n",
    "for v in velocities:\n",
    "    input['velocity'] = v\n",
    "    n1 = np.empty(Np, dtype=np.float64)\n",
    "    for i in range(Np):\n",
    "        input['power'] = power[i]\n",
    "        n1[i] = calculate_ensemble_average(input)\n",
    "    power_data[v] = n1\n",
    "data3['velocity'] = power_data"
   ]
  },
  {
   "cell_type": "code",
   "execution_count": null,
   "metadata": {},
   "outputs": [],
   "source": [
    "title = \"RAP in CO (f=18.0cm z=10.0 cm)\"\n",
    "fig, ax = plot_property_data(data3, x_key='power', param_key='velocity',title='', \n",
    "                             legend_title=r'$v$ [m/s]', label_format='4.0f',\n",
    "                             xlim=[0, 150], xlabel='Power [mW]', \n",
    "                             figsize=(5,4),\n",
    "                             save_fig=True, filename='images/plot3.pdf')\n",
    "ax.lines[-1].remove()\n",
    "ax.legend(fontsize=11, bbox_to_anchor=(0.85,0.30), loc='center',title=r'$v$ [m/s]', title_fontsize=11)\n",
    "fig.tight_layout()\n",
    "fig.savefig('images/plot3.pdf', dpi=350)\n",
    "fig.savefig('images/plot3.png', dpi=350)"
   ]
  },
  {
   "cell_type": "code",
   "execution_count": null,
   "metadata": {},
   "outputs": [],
   "source": [
    "fname = \"../data/carbon_monoxide/f_18_z_10_v_fxn_p.npy\"\n",
    "np.save(fname, data3)"
   ]
  },
  {
   "cell_type": "code",
   "execution_count": null,
   "metadata": {},
   "outputs": [],
   "source": [
    "Np = 40\n",
    "input['focal_length'] = 18.0\n",
    "input['zi'] = 20.0\n",
    "power = np.linspace(0.0, 0.150, Np)\n",
    "data4 = {'power': power*1000}\n",
    "power_data = {}\n",
    "velocities = [1000, 1200, 1500, 1800, 2000, 2400, 2500]\n",
    "for v in velocities:\n",
    "    input['velocity'] = v\n",
    "    n1 = np.empty(Np, dtype=np.float64)\n",
    "    for i in range(Np):\n",
    "        input['power'] = power[i]\n",
    "        n1[i] = calculate_ensemble_average(input)\n",
    "    power_data[v] = n1\n",
    "data4['velocity'] = power_data"
   ]
  },
  {
   "cell_type": "code",
   "execution_count": null,
   "metadata": {},
   "outputs": [],
   "source": [
    "title = \"RAP in CO (f=18.0cm z=20.0 cm)\"\n",
    "fig, ax = plot_property_data(data4, x_key='power', param_key='velocity',\n",
    "                             title='', legend_title=r'$v$ [m/s]', label_format='4.0f',\n",
    "                             xlabel='Power [mW]',xlim=[0, 150],\n",
    "                             figsize=(5,4), legend_loc=[0.85,0.25],\n",
    "                             save_fig=True, filename='images/plot4.pdf')\n",
    "ax.set_ylim(-0.025,1.05)\n",
    "ax.lines[-1].remove()\n",
    "ax.legend(fontsize=11, bbox_to_anchor=(0.85,0.35), loc='center',title=r'$v$ [m/s]', title_fontsize=11)\n",
    "fig.tight_layout()\n",
    "fig.savefig('images/plot4.pdf', dpi=350)\n",
    "fig.savefig('images/plot4.png', dpi=350)"
   ]
  },
  {
   "cell_type": "code",
   "execution_count": null,
   "metadata": {},
   "outputs": [],
   "source": [
    "fname = \"../data/carbon_monoxide/f_18_z_05_v_fxn_p.npy\"\n",
    "np.save(fname, data4)"
   ]
  },
  {
   "cell_type": "code",
   "execution_count": null,
   "metadata": {},
   "outputs": [],
   "source": [
    "Nz = 40\n",
    "input['velocity'] = 1500.00\n",
    "input['power'] = 0.120\n",
    "focal_lengths = [10, 18.0, 25.4, 40.0, 65.0] #cm\n",
    "z = np.linspace(0.1, 30.0, Nz)\n",
    "data5 = {'z': z}\n",
    "focal_length_data = {}\n",
    "for f in focal_length:\n",
    "    input['focal_length'] = f\n",
    "    n1 = np.empty(Nz, dtype=np.float64)\n",
    "    for i in range(Nz):\n",
    "        input['zi'] = z[i]\n",
    "        n1[i] = calculate_ensemble_average(input)\n",
    "    focal_length_data[f] = n1\n",
    "data5['focal_length'] = focal_length_data "
   ]
  },
  {
   "cell_type": "code",
   "execution_count": null,
   "metadata": {},
   "outputs": [],
   "source": [
    "title = \"RAP in CO (P=120mW ; $v_{x}$=1500 m/s)\"\n",
    "colors = {10.0:'red', 18.0:'black', 25.40:'green', 40.0:'mediumblue', 65.0:'purple'}\n",
    "fig, ax = plot_property_data(data5, x_key='z', param_key='focal_length',\n",
    "                             title=\"\", \n",
    "                             legend_title=r'$f$ [cm]',label_format='4.1f', legend_loc=(.85, .25), \n",
    "                             xlabel=r'$z$ [cm]',xlim=[0, 30], colors=colors, \n",
    "                             save_fig=True, filename='images/plot5.pdf')"
   ]
  },
  {
   "cell_type": "code",
   "execution_count": null,
   "metadata": {},
   "outputs": [],
   "source": [
    "fname = \"../data/carbon_monoxide/p_12e-1_v_1500_f_fxn_z.npy\"\n",
    "np.save(fname, data1)"
   ]
  },
  {
   "cell_type": "code",
   "execution_count": null,
   "metadata": {},
   "outputs": [],
   "source": []
  }
 ],
 "metadata": {
  "kernelspec": {
   "display_name": "rap-mb",
   "language": "python",
   "name": "python3"
  },
  "language_info": {
   "codemirror_mode": {
    "name": "ipython",
    "version": 3
   },
   "file_extension": ".py",
   "mimetype": "text/x-python",
   "name": "python",
   "nbconvert_exporter": "python",
   "pygments_lexer": "ipython3",
   "version": "3.11.11"
  }
 },
 "nbformat": 4,
 "nbformat_minor": 2
}
