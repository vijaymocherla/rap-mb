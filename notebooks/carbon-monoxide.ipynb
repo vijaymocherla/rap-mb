{
 "cells": [
  {
   "cell_type": "markdown",
   "metadata": {},
   "source": [
    "# Rapid Adiabatic Passage Simulations for $\\text{CO}$"
   ]
  },
  {
   "cell_type": "code",
   "execution_count": null,
   "metadata": {},
   "outputs": [],
   "source": [
    "# importing some paraphernelia \n",
    "import numpy as np\n",
    "import matplotlib as mpl\n",
    "mpl.rc('text', usetex=True)\n",
    "mpl.rc('font', family='sans-serif', serif='computer modern')\n",
    "import matplotlib.pyplot as plt"
   ]
  },
  {
   "cell_type": "markdown",
   "metadata": {},
   "source": [
    "Also, the lifetime of an excited state $\\tau$ and the corresponding einstein coefficient of the transition $A_{1\\rightarrow 0}$ are related as,\n",
    "$$\n",
    "A_{1\\rightarrow 0} = \\frac{1}{\\tau}.\n",
    "$$\n",
    "where $\\tau$ is an experimentally, measurably quantity.\n",
    "\n",
    "We can transition dipole moment from $A_{1\\rightarrow 0}$ as,\n",
    "\n",
    "$$\n",
    "A_{1\\rightarrow 0} = \\frac{16\\pi^3\\bar{\\nu}^3}{3\\varepsilon_{0}h}\\mu_{10}^{2}\n",
    "$$\n",
    "\n",
    "(For reference see, the textbook by Peter Bernath.)\n"
   ]
  },
  {
   "cell_type": "code",
   "execution_count": null,
   "metadata": {},
   "outputs": [],
   "source": [
    "from scipy.constants import epsilon_0, mu_0, h\n",
    "\n",
    "def calc_dipole(A, nu_bar):\n",
    "    \"\"\"Calculates transition dipole matrix element mu_10 (C-m) for a transition with einstein coefficient A (s^{-1}) and, correspdoning wavenumber nu_bar (cm^-1)\n",
    "    \"\"\"\n",
    "    const = 16*np.pi**3/(3*epsilon_0*h)    \n",
    "    nu_bar = 100*nu_bar\n",
    "    mu_10 = np.sqrt(A/(const*nu_bar**3))\n",
    "    return mu_10"
   ]
  },
  {
   "cell_type": "code",
   "execution_count": null,
   "metadata": {},
   "outputs": [],
   "source": [
    "A10 = 50.61\n",
    "dipole = calc_dipole(A10, nu_bar=2142.719943)\n",
    "print(\"Dipole moment of the CO molecule : %8.6E C-m\"%dipole)\n",
    "print('(OR) %6.2f D'%(dipole/(3.33564*1E-30)))"
   ]
  },
  {
   "cell_type": "code",
   "execution_count": null,
   "metadata": {},
   "outputs": [],
   "source": [
    "run_params = {\n",
    "    # Laser parameters\n",
    "    'wl_nm' : 4666, # wavelength [nm]\n",
    "    'r' : 0.2,      # radius of the laser beam [cm]   \n",
    "    'U0' : 0.0,     # real part of coherences\n",
    "    'V0' : 0.0,     # imag part of coherences\n",
    "    'W0' : -1.0,    # population difference (N_excited - N_ground)\n",
    "    'dipole' : dipole, # dipole moment in [Cm]\n",
    "}"
   ]
  },
  {
   "cell_type": "code",
   "execution_count": null,
   "metadata": {},
   "outputs": [],
   "source": [
    "from helpers.rapmb import *"
   ]
  },
  {
   "cell_type": "code",
   "execution_count": 6,
   "metadata": {},
   "outputs": [],
   "source": [
    "# Monte carlo test for Fig.6\n",
    "# f = 2.5\n",
    "from helpers.rapmb import *\n",
    "run_params['N_t'] = 40\n",
    "run_params['N_samples'] = 1000 \n",
    "run_params['divergence'] = 0.250\n",
    "run_params['delta_v'] = 5 \n",
    "run_params['v'] = 1200  # m/s\n",
    "run_params['P'] = 0.020 # 20mW laser power\n",
    "Nz = 25\n",
    "z = np.linspace(0.1, 50.0, Nz)\n",
    "focal_length = [15.0]# 18.0#, 20.0, 25.4]\n",
    "data = {}\n",
    "for f in focal_length:\n",
    "    run_params['f'] = f\n",
    "    n1 = np.empty(Nz, dtype=np.float64)\n",
    "    for i in range(Nz):\n",
    "        run_params['zi'] = z[i]\n",
    "        n1[i] = monte_carlo(run_params)\n",
    "    data[f] = n1\n",
    "print(\"Done Simulations!\")"
   ]
  },
  {
   "cell_type": "code",
   "execution_count": null,
   "metadata": {},
   "outputs": [],
   "source": [
    "data['z'] = z\n",
    "np.save('./data/co_bloch_trajectories/p_20e-3_v_12e2_fdata.npy', data)\n"
   ]
  },
  {
   "cell_type": "code",
   "execution_count": null,
   "metadata": {},
   "outputs": [],
   "source": [
    "fig, ax = plt.subplots(figsize=(5,4))\n",
    "ax.plot(z, data[15.0], label=15.0)\n",
    "ax.plot(z, data[18.0], label=18.0)\n",
    "ax.plot(z, data[20.0], label=20.0)\n",
    "ax.plot(z, data[25.4], label=25.4)\n",
    "# ax.plot(z, data[40.0], label=40.0)\n",
    "ax.set_xlim(0, )\n",
    "ax.set_ylim(0, 1.0)\n",
    "ax.set_xlabel(r'$z$ [cm]', size=14)\n",
    "ax.set_ylabel(r'$N_{1}$', size=14)\n",
    "ax.legend(bbox_to_anchor=[.5,0.5], frameon=False, title=r'$f$ [cm]')\n",
    "fig.tight_layout()"
   ]
  },
  {
   "cell_type": "code",
   "execution_count": null,
   "metadata": {},
   "outputs": [],
   "source": []
  }
 ],
 "metadata": {
  "kernelspec": {
   "display_name": "nm",
   "language": "python",
   "name": "python3"
  },
  "language_info": {
   "codemirror_mode": {
    "name": "ipython",
    "version": 3
   },
   "file_extension": ".py",
   "mimetype": "text/x-python",
   "name": "python",
   "nbconvert_exporter": "python",
   "pygments_lexer": "ipython3",
   "version": "3.12.1"
  }
 },
 "nbformat": 4,
 "nbformat_minor": 2
}
